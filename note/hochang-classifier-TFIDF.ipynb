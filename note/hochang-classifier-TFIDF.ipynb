{
 "cells": [
  {
   "cell_type": "code",
   "execution_count": 1,
   "metadata": {},
   "outputs": [
    {
     "name": "stderr",
     "output_type": "stream",
     "text": [
      "[nltk_data] Downloading package stopwords to\n",
      "[nltk_data]     C:\\Users\\ghckd\\AppData\\Roaming\\nltk_data...\n",
      "[nltk_data]   Package stopwords is already up-to-date!\n"
     ]
    }
   ],
   "source": [
    "import pandas as pd\n",
    "import numpy as np\n",
    "import re\n",
    "import nltk\n",
    "nltk.download('stopwords')\n",
    "from nltk.corpus import stopwords"
   ]
  },
  {
   "cell_type": "code",
   "execution_count": 2,
   "metadata": {},
   "outputs": [],
   "source": [
    "train = pd.read_csv(filepath_or_buffer=\"../data/train.csv\")\n",
    "test = pd.read_csv(filepath_or_buffer=\"../data/test.csv\")"
   ]
  },
  {
   "cell_type": "code",
   "execution_count": 3,
   "metadata": {},
   "outputs": [],
   "source": [
    "def preprocess(data):\n",
    "    def text_cleaner(text:str):\n",
    "        if text is not np.nan:\n",
    "            text = text.lower()\n",
    "            text = re.sub(r\"(@\\[A-Za-z0-9]+)|([^0-9A-Za-z \\t])|(\\w+:\\/\\/\\S+)|^rt|http.+?\", \"\", text)\n",
    "            stop = stopwords.words(\"english\")\n",
    "            text = \" \".join([word for word in text.split() if word not in (stop)])\n",
    "        \n",
    "        return text\n",
    "\n",
    "    def keyword_preprocessor(x:str):\n",
    "        if \"hellfire\" in x:\n",
    "            x = \"%20\".join((\"hell\", \"fire\"))\n",
    "        if \"wildfire\" in x:\n",
    "            x = \"%20\".join((\"wild\", \"fire\"))\n",
    "        \n",
    "        if \"%20\" in x:\n",
    "            x = x.split(\"%20\")\n",
    "        else:\n",
    "            x = [x]\n",
    "    \n",
    "        return x\n",
    "\n",
    "    def lemmatizer(word_list):\n",
    "        lemmatizer = nltk.wordnet.WordNetLemmatizer()\n",
    "        for i, word in enumerate(word_list):\n",
    "            word_list[i] = lemmatizer.lemmatize(word)\n",
    "            word_list[i] = lemmatizer.lemmatize(word_list[i], \"v\")\n",
    "            word_list[i] = lemmatizer.lemmatize(word_list[i], pos=\"a\")\n",
    "        return word_list\n",
    "\n",
    "    for col in [\"location\", \"text\"]:\n",
    "        data[col] = data[col].apply(text_cleaner)   \n",
    "         \n",
    "    data[\"keyword\"] = data[\"keyword\"].fillna(\"\")\n",
    "    data[\"keyword_split\"] = data[\"keyword\"].apply(keyword_preprocessor)  \n",
    "    data[\"keyword_split\"] = data[\"keyword_split\"].apply(lemmatizer)      \n",
    "\n",
    "    # data[\"location\"] = data[\"location\"].fillna(\"\")\n",
    "    \n",
    "    # data[\"text\"] = data[\"text\"].fillna(\"\")\n",
    "    # data[\"text_tokenized\"] = data[\"text\"].apply(nltk.word_tokenize)\n",
    "    # data[\"text_tokenized\"] = data[\"text_tokenized\"].apply(lemmatizer)\n",
    "    \n",
    "    data = data.drop(columns=[\"id\", \"keyword\", \"location\"]) ##, \"keyword\", \"location\"\n",
    "    \n",
    "    return data"
   ]
  },
  {
   "cell_type": "code",
   "execution_count": 4,
   "metadata": {},
   "outputs": [],
   "source": [
    "train = preprocess(train)\n",
    "test = preprocess(test)"
   ]
  },
  {
   "cell_type": "markdown",
   "metadata": {},
   "source": [
    "### modeling"
   ]
  },
  {
   "cell_type": "code",
   "execution_count": 5,
   "metadata": {},
   "outputs": [],
   "source": [
    "from sklearn.feature_extraction.text import CountVectorizer, TfidfVectorizer\n",
    "from sklearn.linear_model import LogisticRegression\n",
    "from sklearn.naive_bayes import GaussianNB, MultinomialNB, BernoulliNB\n",
    "from sklearn.ensemble import RandomForestClassifier, VotingClassifier\n",
    "\n",
    "from sklearn.metrics import accuracy_score"
   ]
  },
  {
   "cell_type": "code",
   "execution_count": 6,
   "metadata": {},
   "outputs": [],
   "source": [
    "lemmatizer = nltk.wordnet.WordNetLemmatizer()\n",
    "\n",
    "def lemmatize_tokenizer(text):\n",
    "    tokens = nltk.word_tokenize(text)    \n",
    "    for i, token in enumerate(tokens):\n",
    "        tokens[i] = lemmatizer.lemmatize(token)\n",
    "        tokens[i] = lemmatizer.lemmatize(tokens[i], \"v\")\n",
    "        tokens[i] = lemmatizer.lemmatize(tokens[i], pos=\"a\")\n",
    "    return tokens"
   ]
  },
  {
   "cell_type": "code",
   "execution_count": 14,
   "metadata": {},
   "outputs": [
    {
     "name": "stderr",
     "output_type": "stream",
     "text": [
      "c:\\Users\\ghckd\\anaconda3\\envs\\disaster-tweets\\lib\\site-packages\\sklearn\\feature_extraction\\text.py:525: UserWarning: The parameter 'token_pattern' will not be used since 'tokenizer' is not None'\n",
      "  warnings.warn(\n"
     ]
    }
   ],
   "source": [
    "count_vectorizer = CountVectorizer(tokenizer=lemmatize_tokenizer)\n",
    "X_train_count = count_vectorizer.fit_transform(train[\"text\"])\n",
    "X_test_count = count_vectorizer.transform(test[\"text\"])\n",
    "\n",
    "tfidf_vectorizer = TfidfVectorizer(tokenizer=lemmatize_tokenizer)\n",
    "X_train_tf = tfidf_vectorizer.fit_transform(train[\"text\"])\n",
    "X_test_tf = tfidf_vectorizer.transform(test[\"text\"])\n",
    "\n",
    "y_train = train['target']"
   ]
  },
  {
   "cell_type": "markdown",
   "metadata": {},
   "source": [
    "#### RF + MNB + LR, tfidf\n",
    "#### 훈련 셋에 대한 정확도 0.9125180612110863,  0.80294"
   ]
  },
  {
   "cell_type": "markdown",
   "metadata": {},
   "source": [
    "#### RF + MNB + LR, count + tfidf\n",
    "#### 훈련 셋에 대한 정확도 "
   ]
  },
  {
   "cell_type": "code",
   "execution_count": 1,
   "metadata": {},
   "outputs": [
    {
     "ename": "NameError",
     "evalue": "name 'RandomForestClassifier' is not defined",
     "output_type": "error",
     "traceback": [
      "\u001b[1;31m---------------------------------------------------------------------------\u001b[0m",
      "\u001b[1;31mNameError\u001b[0m                                 Traceback (most recent call last)",
      "Cell \u001b[1;32mIn[1], line 1\u001b[0m\n\u001b[1;32m----> 1\u001b[0m rf_model \u001b[38;5;241m=\u001b[39m \u001b[43mRandomForestClassifier\u001b[49m(\n\u001b[0;32m      2\u001b[0m     n_estimators\u001b[38;5;241m=\u001b[39m\u001b[38;5;241m1000\u001b[39m, \n\u001b[0;32m      3\u001b[0m     random_state\u001b[38;5;241m=\u001b[39m\u001b[38;5;241m0\u001b[39m, \n\u001b[0;32m      4\u001b[0m )\n\u001b[0;32m      5\u001b[0m mnb_model \u001b[38;5;241m=\u001b[39m MultinomialNB()\n\u001b[0;32m      6\u001b[0m lr_model \u001b[38;5;241m=\u001b[39m LogisticRegression()\n",
      "\u001b[1;31mNameError\u001b[0m: name 'RandomForestClassifier' is not defined"
     ]
    }
   ],
   "source": [
    "rf_model = RandomForestClassifier(\n",
    "    n_estimators=1000, \n",
    "    random_state=0, \n",
    ")\n",
    "mnb_model = MultinomialNB()\n",
    "lr_model = LogisticRegression()\n",
    "\n",
    "ct_voting_classifier = VotingClassifier(\n",
    "    estimators=[('random_forest', rf_model), \n",
    "                ('multinomial_naive_bayes', mnb_model), \n",
    "                ('logistic_regression', lr_model), \n",
    "                ],\n",
    "    voting='hard'\n",
    "    )\n",
    "\n",
    "ct_voting_classifier.fit(X_train_count, y_train)\n",
    "ct_ensemble_train_pred = ct_voting_classifier.predict(X_train_count)\n",
    "ct_ensemble_pred = ct_voting_classifier.predict(X_test_count)\n",
    "\n",
    "tf_voting_classifier = VotingClassifier(\n",
    "    estimators=[('random_forest', rf_model), \n",
    "                ('multinomial_naive_bayes', mnb_model), \n",
    "                ('logistic_regression', lr_model), \n",
    "                ],\n",
    "    voting='hard'\n",
    "    )\n",
    "\n",
    "tf_voting_classifier.fit(X_train_count, y_train)\n",
    "tf_ensemble_train_pred = tf_voting_classifier.predict(X_train_tf)\n",
    "tf_ensemble_pred = tf_voting_classifier.predict(X_test_tf)"
   ]
  },
  {
   "cell_type": "markdown",
   "metadata": {},
   "source": [
    "#### RF + MNB + LR + BNB, lemma"
   ]
  },
  {
   "cell_type": "code",
   "execution_count": 8,
   "metadata": {},
   "outputs": [],
   "source": [
    "# rf_model = RandomForestClassifier(\n",
    "#     n_estimators=1000, \n",
    "#     random_state=0, \n",
    "# )\n",
    "# mnb_model = MultinomialNB()\n",
    "# lr_model = LogisticRegression()\n",
    "# bnb_model = BernoulliNB()\n",
    "\n",
    "# voting_classifier = VotingClassifier(\n",
    "#     estimators=[('random_forest', rf_model), \n",
    "#                 ('multinomial_naive_bayes', mnb_model), \n",
    "#                 ('logistic_regression', lr_model), \n",
    "#                 ('bernoulli_naive_bayes', bnb_model),\n",
    "#                 ],\n",
    "#     voting='hard'\n",
    "#     )\n",
    "\n",
    "# voting_classifier.fit(X_train, y_train)\n",
    "# ensemble_train_pred = voting_classifier.predict(X_train)\n",
    "# ensemble_pred = voting_classifier.predict(X_test)\n",
    "\n",
    "## 훈련 셋에 대한 정확도 "
   ]
  },
  {
   "cell_type": "code",
   "execution_count": 9,
   "metadata": {},
   "outputs": [
    {
     "name": "stdout",
     "output_type": "stream",
     "text": [
      "훈련 셋에 대한 정확도 0.9125180612110863\n"
     ]
    }
   ],
   "source": [
    "print(\"훈련 셋에 대한 정확도\", accuracy_score(y_train, ensemble_train_pred))"
   ]
  },
  {
   "cell_type": "code",
   "execution_count": 10,
   "metadata": {},
   "outputs": [
    {
     "data": {
      "text/plain": [
       "array([1, 1, 1, ..., 1, 1, 1], dtype=int64)"
      ]
     },
     "execution_count": 10,
     "metadata": {},
     "output_type": "execute_result"
    }
   ],
   "source": [
    "ensemble_pred"
   ]
  },
  {
   "cell_type": "code",
   "execution_count": 12,
   "metadata": {},
   "outputs": [],
   "source": [
    "submit = pd.read_csv(\"../submit/sample_submission.csv\")\n",
    "submit[\"target\"] = ensemble_pred\n",
    "# submit.to_csv(\"../submit/submit_ensemble_tfidf.csv\", index=False)"
   ]
  },
  {
   "cell_type": "markdown",
   "metadata": {},
   "source": [
    "### Cross Validation"
   ]
  },
  {
   "cell_type": "code",
   "execution_count": 82,
   "metadata": {},
   "outputs": [],
   "source": [
    "from sklearn.model_selection import cross_val_predict\n",
    "from sklearn.metrics import confusion_matrix\n",
    "import seaborn as sns\n",
    "import matplotlib.pyplot as plt"
   ]
  },
  {
   "cell_type": "code",
   "execution_count": null,
   "metadata": {},
   "outputs": [],
   "source": [
    "cross_val_predict(voting_classifier, X_train, y_train)"
   ]
  },
  {
   "cell_type": "code",
   "execution_count": null,
   "metadata": {},
   "outputs": [],
   "source": [
    "sns.heatmap(confusion_matrix(y_true, y_pred), annot=True, cmap=\"Blues\")\n",
    "plt.xlabel('Predicted')\n",
    "plt.ylabel('True')\n",
    "plt.show()"
   ]
  },
  {
   "cell_type": "markdown",
   "metadata": {},
   "source": [
    "### Optimization"
   ]
  },
  {
   "cell_type": "code",
   "execution_count": null,
   "metadata": {},
   "outputs": [],
   "source": []
  },
  {
   "cell_type": "code",
   "execution_count": null,
   "metadata": {},
   "outputs": [],
   "source": []
  }
 ],
 "metadata": {
  "kernelspec": {
   "display_name": "disaster-tweets",
   "language": "python",
   "name": "python3"
  },
  "language_info": {
   "codemirror_mode": {
    "name": "ipython",
    "version": 3
   },
   "file_extension": ".py",
   "mimetype": "text/x-python",
   "name": "python",
   "nbconvert_exporter": "python",
   "pygments_lexer": "ipython3",
   "version": "3.9.17"
  }
 },
 "nbformat": 4,
 "nbformat_minor": 2
}
