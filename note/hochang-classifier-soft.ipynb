{
 "cells": [
  {
   "cell_type": "code",
   "execution_count": 14,
   "metadata": {},
   "outputs": [
    {
     "name": "stderr",
     "output_type": "stream",
     "text": [
      "[nltk_data] Downloading package stopwords to\n",
      "[nltk_data]     C:\\Users\\ghckd\\AppData\\Roaming\\nltk_data...\n",
      "[nltk_data]   Package stopwords is already up-to-date!\n"
     ]
    }
   ],
   "source": [
    "import pandas as pd\n",
    "import numpy as np\n",
    "import re\n",
    "import nltk\n",
    "nltk.download('stopwords')\n",
    "from nltk.corpus import stopwords"
   ]
  },
  {
   "cell_type": "code",
   "execution_count": 15,
   "metadata": {},
   "outputs": [],
   "source": [
    "train = pd.read_csv(filepath_or_buffer=\"../data/train.csv\")\n",
    "test = pd.read_csv(filepath_or_buffer=\"../data/test.csv\")"
   ]
  },
  {
   "cell_type": "code",
   "execution_count": 16,
   "metadata": {},
   "outputs": [],
   "source": [
    "def preprocess(data):\n",
    "    def text_cleaner(text:str):\n",
    "        if text is not np.nan:\n",
    "            text = text.lower()\n",
    "            text = re.sub(r\"(@\\[A-Za-z0-9]+)|([^0-9A-Za-z \\t])|(\\w+:\\/\\/\\S+)|^rt|http.+?\", \"\", text)\n",
    "            stop = stopwords.words(\"english\")\n",
    "            text = \" \".join([word for word in text.split() if word not in (stop)])\n",
    "        \n",
    "        return text\n",
    "\n",
    "    def keyword_preprocessor(x:str):\n",
    "        if \"hellfire\" in x:\n",
    "            x = \"%20\".join((\"hell\", \"fire\"))\n",
    "        if \"wildfire\" in x:\n",
    "            x = \"%20\".join((\"wild\", \"fire\"))\n",
    "        \n",
    "        if \"%20\" in x:\n",
    "            x = x.split(\"%20\")\n",
    "        else:\n",
    "            x = [x]\n",
    "    \n",
    "        return x\n",
    "\n",
    "    def lemmatizer(word_list):\n",
    "        lemmatizer = nltk.wordnet.WordNetLemmatizer()\n",
    "        for i, word in enumerate(word_list):\n",
    "            word_list[i] = lemmatizer.lemmatize(word)\n",
    "            word_list[i] = lemmatizer.lemmatize(word_list[i], \"v\")\n",
    "            word_list[i] = lemmatizer.lemmatize(word_list[i], pos=\"a\")\n",
    "        return word_list\n",
    "\n",
    "    for col in [\"location\", \"text\"]:\n",
    "        data[col] = data[col].apply(text_cleaner)   \n",
    "         \n",
    "    data[\"keyword\"] = data[\"keyword\"].fillna(\"\")\n",
    "    data[\"keyword_split\"] = data[\"keyword\"].apply(keyword_preprocessor)  \n",
    "    data[\"keyword_split\"] = data[\"keyword_split\"].apply(lemmatizer)      \n",
    "\n",
    "    # data[\"location\"] = data[\"location\"].fillna(\"\")\n",
    "    \n",
    "    # data[\"text\"] = data[\"text\"].fillna(\"\")\n",
    "    # data[\"text_tokenized\"] = data[\"text\"].apply(nltk.word_tokenize)\n",
    "    # data[\"text_tokenized\"] = data[\"text_tokenized\"].apply(lemmatizer)\n",
    "    \n",
    "    data = data.drop(columns=[\"id\", \"keyword\", \"location\"]) ##, \"keyword\", \"location\"\n",
    "    \n",
    "    return data"
   ]
  },
  {
   "cell_type": "code",
   "execution_count": 17,
   "metadata": {},
   "outputs": [],
   "source": [
    "train = preprocess(train)\n",
    "test = preprocess(test)"
   ]
  },
  {
   "cell_type": "markdown",
   "metadata": {},
   "source": [
    "### modeling"
   ]
  },
  {
   "cell_type": "code",
   "execution_count": 18,
   "metadata": {},
   "outputs": [],
   "source": [
    "from sklearn.feature_extraction.text import CountVectorizer\n",
    "from sklearn.linear_model import LogisticRegression\n",
    "from sklearn.naive_bayes import GaussianNB, MultinomialNB, BernoulliNB\n",
    "from sklearn.ensemble import RandomForestClassifier, VotingClassifier\n",
    "\n",
    "from sklearn.metrics import accuracy_score"
   ]
  },
  {
   "cell_type": "code",
   "execution_count": 19,
   "metadata": {},
   "outputs": [],
   "source": [
    "lemmatizer = nltk.wordnet.WordNetLemmatizer()\n",
    "\n",
    "def lemmatize_tokenizer(text):\n",
    "    tokens = nltk.word_tokenize(text)    \n",
    "    for i, token in enumerate(tokens):\n",
    "        tokens[i] = lemmatizer.lemmatize(token)\n",
    "        tokens[i] = lemmatizer.lemmatize(tokens[i], \"v\")\n",
    "        tokens[i] = lemmatizer.lemmatize(tokens[i], pos=\"a\")\n",
    "    return tokens"
   ]
  },
  {
   "cell_type": "code",
   "execution_count": 20,
   "metadata": {},
   "outputs": [
    {
     "name": "stderr",
     "output_type": "stream",
     "text": [
      "c:\\Users\\ghckd\\anaconda3\\envs\\disaster-tweets\\lib\\site-packages\\sklearn\\feature_extraction\\text.py:525: UserWarning: The parameter 'token_pattern' will not be used since 'tokenizer' is not None'\n",
      "  warnings.warn(\n"
     ]
    }
   ],
   "source": [
    "vectorizer = CountVectorizer(tokenizer=lemmatize_tokenizer)\n",
    "X_train = vectorizer.fit_transform(train[\"text\"])\n",
    "X_test = vectorizer.transform(test[\"text\"])\n",
    "y_train = train['target']"
   ]
  },
  {
   "cell_type": "markdown",
   "metadata": {},
   "source": [
    "#### RF + MNB + LR, lemma"
   ]
  },
  {
   "cell_type": "code",
   "execution_count": 21,
   "metadata": {},
   "outputs": [],
   "source": [
    "# rf_model = RandomForestClassifier(\n",
    "#     n_estimators=1000, \n",
    "#     random_state=0, \n",
    "# )\n",
    "# mnb_model = MultinomialNB()\n",
    "# lr_model = LogisticRegression(\n",
    "#     max_iter=100,\n",
    "#     random_state=0\n",
    "# )\n",
    "\n",
    "# voting_classifier = VotingClassifier(\n",
    "#     estimators=[('random_forest', rf_model), \n",
    "#                 ('multinomial_naive_bayes', mnb_model), \n",
    "#                 ('logistic_regression', lr_model), \n",
    "#                 ],\n",
    "#     voting='soft'\n",
    "#     )\n",
    "\n",
    "# voting_classifier.fit(X_train, y_train)\n",
    "# ensemble_train_pred = voting_classifier.predict(X_train)\n",
    "# ensemble_pred = voting_classifier.predict(X_test)\n",
    "# print(\"훈련 셋에 대한 정확도\", accuracy_score(y_train, ensemble_train_pred))"
   ]
  },
  {
   "cell_type": "markdown",
   "metadata": {},
   "source": [
    "#### RF + MNB + LR + BNB, lemma"
   ]
  },
  {
   "cell_type": "code",
   "execution_count": 22,
   "metadata": {},
   "outputs": [
    {
     "name": "stdout",
     "output_type": "stream",
     "text": [
      "훈련 셋에 대한 정확도 0.926310258767897\n"
     ]
    }
   ],
   "source": [
    "rf_model = RandomForestClassifier(\n",
    "    n_estimators=1000, \n",
    "    random_state=0, \n",
    ")\n",
    "mnb_model = MultinomialNB()\n",
    "lr_model = LogisticRegression(\n",
    "    random_state=0\n",
    ")\n",
    "bnb_model = BernoulliNB()\n",
    "\n",
    "voting_classifier = VotingClassifier(\n",
    "    estimators=[('random_forest', rf_model), \n",
    "                ('multinomial_naive_bayes', mnb_model), \n",
    "                ('logistic_regression', lr_model), \n",
    "                ('bernoulli_naive_bayes', bnb_model),\n",
    "                ],\n",
    "    voting='soft'\n",
    "    )\n",
    "voting_classifier.fit(X_train, y_train)\n",
    "ensemble_train_pred = voting_classifier.predict(X_train)\n",
    "ensemble_pred = voting_classifier.predict(X_test)\n",
    "print(\"훈련 셋에 대한 정확도\", accuracy_score(y_train, ensemble_train_pred))\n",
    "# ## 훈련 셋에 대한 정확도 0.9255221331932221,  0.80355"
   ]
  },
  {
   "cell_type": "markdown",
   "metadata": {},
   "source": [
    "#### RF + BNB + LR, lemma"
   ]
  },
  {
   "cell_type": "code",
   "execution_count": null,
   "metadata": {},
   "outputs": [],
   "source": [
    "# rf_model = RandomForestClassifier(\n",
    "#     n_estimators=1000, \n",
    "#     random_state=0, \n",
    "# )\n",
    "# bnb_model = BernoulliNB()\n",
    "# lr_model = LogisticRegression()\n",
    "\n",
    "# voting_classifier = VotingClassifier(\n",
    "#     estimators=[('random_forest', rf_model), \n",
    "#                 ('bernoulli_naive_bayes', bnb_model),\n",
    "#                 ('logistic_regression', lr_model), \n",
    "#                 ],\n",
    "#     voting='soft'\n",
    "#     )\n",
    "# voting_classifier.fit(X_train, y_train)\n",
    "# ensemble_train_pred = voting_classifier.predict(X_train)\n",
    "# ensemble_pred = voting_classifier.predict(X_test)\n",
    "# print(\"훈련 셋에 대한 정확도\", accuracy_score(y_train, ensemble_train_pred))\n",
    "## 훈련 셋에 대한 정확도 0.9557336135557599,  0.8106"
   ]
  },
  {
   "cell_type": "code",
   "execution_count": 10,
   "metadata": {},
   "outputs": [
    {
     "name": "stdout",
     "output_type": "stream",
     "text": [
      "훈련 셋에 대한 정확도 0.9461447523972153\n"
     ]
    }
   ],
   "source": [
    "print(\"훈련 셋에 대한 정확도\", accuracy_score(y_train, ensemble_train_pred))"
   ]
  },
  {
   "cell_type": "code",
   "execution_count": 12,
   "metadata": {},
   "outputs": [
    {
     "data": {
      "text/plain": [
       "array([1, 1, 1, ..., 1, 1, 1], dtype=int64)"
      ]
     },
     "execution_count": 12,
     "metadata": {},
     "output_type": "execute_result"
    }
   ],
   "source": [
    "ensemble_pred"
   ]
  },
  {
   "cell_type": "code",
   "execution_count": 24,
   "metadata": {},
   "outputs": [],
   "source": [
    "submit = pd.read_csv(\"../submit/sample_submission.csv\")\n",
    "submit[\"target\"] = ensemble_pred\n",
    "# submit.to_csv(\"../submit/submit_ensemble_4_soft.csv\", index=False)"
   ]
  },
  {
   "cell_type": "markdown",
   "metadata": {},
   "source": [
    "1. random_forest, multinomial_naive_bayes, logistic_regression -> hard\n",
    "   * 0.9573098647051097\n",
    "   * 0.81244\n",
    "\n",
    "2. random_forest, multinomial_naive_bayes, logistic_regression(max_iter=1000) -> hard\n",
    "   * 0.9573098647051097\n",
    "   * 0.81244\n",
    "\n",
    "3. random_forest, multinomial_naive_bayes, logistic_regression -> soft\n",
    "   * 0.9461447523972153\n",
    "   * 0.80968\n",
    "\n",
    "4. random_forest, multinomial_naive_bayes, logistic_regression, bernoulli_naive_bayes -> soft\n",
    "   * 0.926310258767897\n",
    "   * 0.80631\n"
   ]
  }
 ],
 "metadata": {
  "kernelspec": {
   "display_name": "disaster-tweets",
   "language": "python",
   "name": "python3"
  },
  "language_info": {
   "codemirror_mode": {
    "name": "ipython",
    "version": 3
   },
   "file_extension": ".py",
   "mimetype": "text/x-python",
   "name": "python",
   "nbconvert_exporter": "python",
   "pygments_lexer": "ipython3",
   "version": "3.9.17"
  }
 },
 "nbformat": 4,
 "nbformat_minor": 2
}
