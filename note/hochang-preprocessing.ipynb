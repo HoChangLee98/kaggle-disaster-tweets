{
 "cells": [
  {
   "cell_type": "code",
   "execution_count": 109,
   "metadata": {},
   "outputs": [
    {
     "name": "stderr",
     "output_type": "stream",
     "text": [
      "[nltk_data] Downloading package stopwords to\n",
      "[nltk_data]     C:\\Users\\ghckd\\AppData\\Roaming\\nltk_data...\n",
      "[nltk_data]   Package stopwords is already up-to-date!\n"
     ]
    }
   ],
   "source": [
    "import pandas as pd\n",
    "import numpy as np\n",
    "import re\n",
    "import nltk.corpus\n",
    "nltk.download('stopwords')\n",
    "from nltk.corpus import stopwords"
   ]
  },
  {
   "cell_type": "code",
   "execution_count": 169,
   "metadata": {},
   "outputs": [],
   "source": [
    "class PreProcessor:\n",
    "    def __init__(self, folder_path:str=\"../data\"):\n",
    "        self.train = pd.read_csv(f\"{folder_path}/train.csv\")\n",
    "        self.test = pd.read_csv(f\"{folder_path}/test.csv\")\n",
    "        \n",
    "    def data_preprocessor(self):\n",
    "        train = self.train\n",
    "        test = self.test\n",
    "\n",
    "        train[\"text\"] = train[\"text\"].apply(self.text_cleaner)\n",
    "        test[\"text\"] = test[\"text\"].apply(self.text_cleaner)\n",
    "        \n",
    "        train = self.text_tr_processor(train)\n",
    "        \n",
    "        train[\"keyword\"] = train[\"keyword\"].fillna(\"\")\n",
    "        train[\"keyword_split\"] = train[\"keyword\"].apply(self.keyword_preprocessor)  \n",
    "        train[\"keyword_split\"] = train[\"keyword_split\"].apply(self.lemmatizer)      \n",
    "\n",
    "        test[\"keyword\"] = test[\"keyword\"].fillna(\"\")\n",
    "        test[\"keyword_split\"] = test[\"keyword\"].apply(self.keyword_preprocessor)  \n",
    "        test[\"keyword_split\"] = test[\"keyword_split\"].apply(self.lemmatizer)      \n",
    "                        \n",
    "        for i in train.index:\n",
    "            train.loc[i, \"text&keyword\"] = train.loc[i, \"text\"] + \" \" + \" \".join(train.loc[i, \"keyword_split\"])\n",
    "        \n",
    "        for i in test.index:\n",
    "            test.loc[i, \"text&keyword\"] = test.loc[i, \"text\"] + \" \" + \" \".join(test.loc[i, \"keyword_split\"])\n",
    "        \n",
    "        train = train.drop(columns=[\"id\", \"keyword\", \"location\", \"text\", \"keyword_split\"])\n",
    "        test = test.drop(columns=[\"id\", \"keyword\", \"location\", \"text\", \"keyword_split\"])\n",
    "\n",
    "        \n",
    "        return train, test\n",
    "    \n",
    "    def text_cleaner(self, text:str):\n",
    "        if text is not np.nan:\n",
    "            text = text.lower()\n",
    "            text = re.sub(r\"(@\\[A-Za-z0-9]+)|([^0-9A-Za-z \\t])|(\\w+:\\/\\/\\S+)|^rt|http.+?\", \"\", text)\n",
    "            stop = stopwords.words(\"english\")\n",
    "            text = \" \".join([word for word in text.split() if word not in (stop)])\n",
    "        \n",
    "        return text\n",
    "\n",
    "    def text_tr_processor(self, train_set):\n",
    "        dup_texts = train_set[train_set.duplicated([\"keyword\", \"text\"], keep=\"first\")][\"text\"].unique()\n",
    "        drop_indexs = []\n",
    "        for t in dup_texts:\n",
    "            dup = train_set[train_set[\"text\"] == t]\n",
    "            if dup[\"target\"].nunique() != 1:          \n",
    "                rate_1 = train_set.loc[dup.index][\"target\"].sum()/len(train_set.loc[dup.index][\"target\"])\n",
    "                if rate_1 < 0.5:\n",
    "                    for i in dup.index:\n",
    "                        train_set.loc[i, \"target\"] = 0\n",
    "                elif rate_1 > 0.5:\n",
    "                    for i in dup.index:\n",
    "                        train_set.loc[i, \"target\"] = 1\n",
    "                elif rate_1 == 0.5:\n",
    "                    drop_indexs += list(dup.index)\n",
    "        \n",
    "        train_set = train_set.drop(index=drop_indexs)\n",
    "        train_set = train_set.drop_duplicates()\n",
    "        return train_set\n",
    "\n",
    "    def keyword_preprocessor(self, x:str):\n",
    "        # if \"hellfire\" in x:\n",
    "        #     x = \"%20\".join((\"hell\", \"fire\"))\n",
    "        # if \"wildfire\" in x:\n",
    "        #     x = \"%20\".join((\"wild\", \"fire\"))\n",
    "        \n",
    "        if \"%20\" in x:\n",
    "            x = x.split(\"%20\")\n",
    "        else:\n",
    "            x = [x]\n",
    "    \n",
    "        return x\n",
    "    \n",
    "    def lemmatizer(self, word_list):\n",
    "        lemmatizer = nltk.wordnet.WordNetLemmatizer()\n",
    "        for i, word in enumerate(word_list):\n",
    "            word_list[i] = lemmatizer.lemmatize(word)\n",
    "            word_list[i] = lemmatizer.lemmatize(word_list[i], \"v\")\n",
    "            word_list[i] = lemmatizer.lemmatize(word_list[i], pos=\"a\")\n",
    "        return word_list"
   ]
  },
  {
   "cell_type": "code",
   "execution_count": 170,
   "metadata": {},
   "outputs": [],
   "source": [
    "pp = PreProcessor()\n",
    "train, test = pp.data_preprocessor()"
   ]
  }
 ],
 "metadata": {
  "kernelspec": {
   "display_name": "disaster-tweets",
   "language": "python",
   "name": "python3"
  },
  "language_info": {
   "codemirror_mode": {
    "name": "ipython",
    "version": 3
   },
   "file_extension": ".py",
   "mimetype": "text/x-python",
   "name": "python",
   "nbconvert_exporter": "python",
   "pygments_lexer": "ipython3",
   "version": "3.9.17"
  }
 },
 "nbformat": 4,
 "nbformat_minor": 2
}
