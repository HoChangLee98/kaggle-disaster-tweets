{
 "cells": [
  {
   "cell_type": "markdown",
   "metadata": {},
   "source": [
    "### 방안1. 숫자 제거,   중복 처리, 한글 제거, 소문자\n",
    "### 방안2. 숫자 띄우기, 중복 처리, 한글 제거, 소문자"
   ]
  },
  {
   "cell_type": "code",
   "execution_count": 110,
   "metadata": {},
   "outputs": [
    {
     "name": "stderr",
     "output_type": "stream",
     "text": [
      "[nltk_data] Downloading package stopwords to\n",
      "[nltk_data]     C:\\Users\\ghckd\\AppData\\Roaming\\nltk_data...\n",
      "[nltk_data]   Package stopwords is already up-to-date!\n"
     ]
    }
   ],
   "source": [
    "import pandas as pd\n",
    "import numpy as np\n",
    "import re\n",
    "import nltk\n",
    "nltk.download('stopwords')\n",
    "from nltk.corpus import stopwords"
   ]
  },
  {
   "cell_type": "code",
   "execution_count": 111,
   "metadata": {},
   "outputs": [],
   "source": [
    "train = pd.read_csv(filepath_or_buffer=\"../data/train.csv\")\n",
    "test = pd.read_csv(filepath_or_buffer=\"../data/test.csv\")\n",
    "repu = pd.read_csv(filepath_or_buffer=\"../data/repu.csv\").drop(columns=[\"Unnamed: 0\"])"
   ]
  },
  {
   "cell_type": "code",
   "execution_count": 112,
   "metadata": {},
   "outputs": [],
   "source": [
    "train = train.drop_duplicates(subset=\"text\")\n",
    "train = pd.concat([train, repu], axis=0).reset_index(drop=True)\n",
    "train = train.drop_duplicates(keep=\"last\")"
   ]
  },
  {
   "cell_type": "code",
   "execution_count": 114,
   "metadata": {},
   "outputs": [],
   "source": [
    "def preprocess(data):\n",
    "    def text_cleaner(text:str):\n",
    "        if text is not np.nan:\n",
    "            text = text.lower()\n",
    "            text = re.sub(r\"(@\\[A-Za-z0-9]+)|([^0-9A-Za-z \\t])|(\\w+:\\/\\/\\S+)|^rt|http.+?\", \"\", text)\n",
    "            text = remove_korean(text)\n",
    "            text = del_alphanumeric(text)\n",
    "            # text = add_whitespace_between_alphanumeric(text)\n",
    "            stop = stopwords.words(\"english\")\n",
    "            text = \" \".join([word for word in text[0].split() if word not in (stop)])\n",
    "        \n",
    "        return text\n",
    "    \n",
    "    def remove_korean(text):\n",
    "        cleaned_text = re.sub('[ㄱ-ㅎㅏ-ㅣ가-힣]+', '', text)\n",
    "        return cleaned_text\n",
    "    \n",
    "    def del_alphanumeric(text):\n",
    "        cleaned_text = []\n",
    "        tokens = re.findall(r'([a-zA-Z]+|\\d+)', text)\n",
    "    \n",
    "        token = ' '.join(tokens)\n",
    "        token = re.sub(r'\\d+', '', token)\n",
    "        token = re.sub(r'\\b\\w{1,text2}\\b', '', token)\n",
    "        cleaned_text.append(token)\n",
    "        return cleaned_text\n",
    "    \n",
    "    def add_whitespace_between_alphanumeric(text):\n",
    "        cleaned_text = re.sub(r'([a-zA-Z])([0-9]+)', r'\\1 \\2', text)  # 영어 다음에 한 개 이상의 숫자가 오는 경우\n",
    "        cleaned_text = re.sub(r'([0-9]+)([a-zA-Z])', r'\\1 \\2', cleaned_text)  # 숫자 다음에 한 개 이상의 영어가 오는 경우\n",
    "        return cleaned_text\n",
    "\n",
    "    # def keyword_preprocessor(x:str):\n",
    "    #     if \"hellfire\" in x:\n",
    "    #         x = \"%20\".join((\"hell\", \"fire\"))\n",
    "    #     if \"wildfire\" in x:\n",
    "    #         x = \"%20\".join((\"wild\", \"fire\"))\n",
    "        \n",
    "    #     if \"%20\" in x:\n",
    "    #         x = x.split(\"%20\")\n",
    "    #     else:\n",
    "    #         x = [x]\n",
    "    \n",
    "    #     return x\n",
    "\n",
    "    # def lemmatizer(word_list):\n",
    "    #     lemmatizer = nltk.wordnet.WordNetLemmatizer()\n",
    "    #     for i, word in enumerate(word_list):\n",
    "    #         word_list[i] = lemmatizer.lemmatize(word)\n",
    "    #         word_list[i] = lemmatizer.lemmatize(word_list[i], \"v\")\n",
    "    #         word_list[i] = lemmatizer.lemmatize(word_list[i], pos=\"a\")\n",
    "    #     return word_list\n",
    "    \n",
    "    data[\"text\"] = data[\"text\"].apply(text_cleaner)   \n",
    "         \n",
    "    # data[\"keyword\"] = data[\"keyword\"].fillna(\"\")\n",
    "    # data[\"keyword_split\"] = data[\"keyword\"].apply(keyword_preprocessor)  \n",
    "    # data[\"keyword_split\"] = data[\"keyword_split\"].apply(lemmatizer)      \n",
    "\n",
    "    # data[\"location\"] = data[\"location\"].fillna(\"\")\n",
    "    \n",
    "    # data[\"text\"] = data[\"text\"].fillna(\"\")\n",
    "    # data[\"text_tokenized\"] = data[\"text\"].apply(nltk.word_tokenize)\n",
    "    # data[\"text_tokenized\"] = data[\"text_tokenized\"].apply(lemmatizer)\n",
    "    \n",
    "    data = data.drop(columns=[\"id\", \"keyword\", \"location\"]) ##, \"keyword\", \"location\"\n",
    "    \n",
    "    return data"
   ]
  },
  {
   "cell_type": "code",
   "execution_count": 115,
   "metadata": {},
   "outputs": [],
   "source": [
    "train = preprocess(train)\n",
    "test = preprocess(test)"
   ]
  },
  {
   "cell_type": "code",
   "execution_count": 116,
   "metadata": {},
   "outputs": [
    {
     "data": {
      "text/html": [
       "<div>\n",
       "<style scoped>\n",
       "    .dataframe tbody tr th:only-of-type {\n",
       "        vertical-align: middle;\n",
       "    }\n",
       "\n",
       "    .dataframe tbody tr th {\n",
       "        vertical-align: top;\n",
       "    }\n",
       "\n",
       "    .dataframe thead th {\n",
       "        text-align: right;\n",
       "    }\n",
       "</style>\n",
       "<table border=\"1\" class=\"dataframe\">\n",
       "  <thead>\n",
       "    <tr style=\"text-align: right;\">\n",
       "      <th></th>\n",
       "      <th>text</th>\n",
       "      <th>target</th>\n",
       "    </tr>\n",
       "  </thead>\n",
       "  <tbody>\n",
       "    <tr>\n",
       "      <th>0</th>\n",
       "      <td>deeds reason earthquake may allah forgive us</td>\n",
       "      <td>1</td>\n",
       "    </tr>\n",
       "    <tr>\n",
       "      <th>1</th>\n",
       "      <td>forest fire near la ronge sask canada</td>\n",
       "      <td>1</td>\n",
       "    </tr>\n",
       "    <tr>\n",
       "      <th>2</th>\n",
       "      <td>residents asked shelter place notified officer...</td>\n",
       "      <td>1</td>\n",
       "    </tr>\n",
       "    <tr>\n",
       "      <th>3</th>\n",
       "      <td>people receive wildfires evacuation orders cal...</td>\n",
       "      <td>1</td>\n",
       "    </tr>\n",
       "    <tr>\n",
       "      <th>4</th>\n",
       "      <td>got sent photo ruby alaska smoke wildfires pou...</td>\n",
       "      <td>1</td>\n",
       "    </tr>\n",
       "    <tr>\n",
       "      <th>...</th>\n",
       "      <td>...</td>\n",
       "      <td>...</td>\n",
       "    </tr>\n",
       "    <tr>\n",
       "      <th>7570</th>\n",
       "      <td>incident injuryi inner loop exit md georgia av...</td>\n",
       "      <td>1</td>\n",
       "    </tr>\n",
       "    <tr>\n",
       "      <th>7571</th>\n",
       "      <td>like music video want real action shit like bu...</td>\n",
       "      <td>0</td>\n",
       "    </tr>\n",
       "    <tr>\n",
       "      <th>7572</th>\n",
       "      <td>exploded amp brought thebeginning universe mat...</td>\n",
       "      <td>0</td>\n",
       "    </tr>\n",
       "    <tr>\n",
       "      <th>7573</th>\n",
       "      <td>horrible sinking feeling youve home phone real...</td>\n",
       "      <td>0</td>\n",
       "    </tr>\n",
       "    <tr>\n",
       "      <th>7574</th>\n",
       "      <td>wowo nigerian refugees repatriated cameroon</td>\n",
       "      <td>1</td>\n",
       "    </tr>\n",
       "  </tbody>\n",
       "</table>\n",
       "<p>7557 rows × 2 columns</p>\n",
       "</div>"
      ],
      "text/plain": [
       "                                                   text  target\n",
       "0          deeds reason earthquake may allah forgive us       1\n",
       "1                 forest fire near la ronge sask canada       1\n",
       "2     residents asked shelter place notified officer...       1\n",
       "3     people receive wildfires evacuation orders cal...       1\n",
       "4     got sent photo ruby alaska smoke wildfires pou...       1\n",
       "...                                                 ...     ...\n",
       "7570  incident injuryi inner loop exit md georgia av...       1\n",
       "7571  like music video want real action shit like bu...       0\n",
       "7572  exploded amp brought thebeginning universe mat...       0\n",
       "7573  horrible sinking feeling youve home phone real...       0\n",
       "7574        wowo nigerian refugees repatriated cameroon       1\n",
       "\n",
       "[7557 rows x 2 columns]"
      ]
     },
     "execution_count": 116,
     "metadata": {},
     "output_type": "execute_result"
    }
   ],
   "source": [
    "train"
   ]
  },
  {
   "cell_type": "markdown",
   "metadata": {},
   "source": [
    "### modeling"
   ]
  },
  {
   "cell_type": "code",
   "execution_count": 117,
   "metadata": {},
   "outputs": [],
   "source": [
    "from sklearn.feature_extraction.text import CountVectorizer\n",
    "from sklearn.linear_model import LogisticRegression\n",
    "from sklearn.naive_bayes import GaussianNB, MultinomialNB, BernoulliNB\n",
    "from sklearn.ensemble import RandomForestClassifier, VotingClassifier\n",
    "\n",
    "from sklearn.metrics import accuracy_score"
   ]
  },
  {
   "cell_type": "code",
   "execution_count": 118,
   "metadata": {},
   "outputs": [],
   "source": [
    "lemmatizer = nltk.wordnet.WordNetLemmatizer()\n",
    "\n",
    "def lemmatize_tokenizer(text):\n",
    "    tokens = nltk.word_tokenize(text)    \n",
    "    for i, token in enumerate(tokens):\n",
    "        tokens[i] = lemmatizer.lemmatize(token)\n",
    "        tokens[i] = lemmatizer.lemmatize(tokens[i], \"v\")\n",
    "        tokens[i] = lemmatizer.lemmatize(tokens[i], pos=\"a\")\n",
    "    return tokens"
   ]
  },
  {
   "cell_type": "code",
   "execution_count": 119,
   "metadata": {},
   "outputs": [
    {
     "name": "stderr",
     "output_type": "stream",
     "text": [
      "c:\\Users\\ghckd\\anaconda3\\envs\\disaster-tweets\\lib\\site-packages\\sklearn\\feature_extraction\\text.py:525: UserWarning: The parameter 'token_pattern' will not be used since 'tokenizer' is not None'\n",
      "  warnings.warn(\n"
     ]
    }
   ],
   "source": [
    "vectorizer = CountVectorizer(tokenizer=lemmatize_tokenizer)\n",
    "X_train = vectorizer.fit_transform(train[\"text\"])\n",
    "X_test = vectorizer.transform(test[\"text\"])\n",
    "y_train = train['target']"
   ]
  },
  {
   "cell_type": "markdown",
   "metadata": {},
   "source": [
    "#### RF + MNB + LR, lemma\n",
    "\n",
    " 1. 훈련 셋에 대한 정확도\n",
    "      * 0.9573098647051097\n",
    "      * 0.81244\n",
    " 2. 훈련 셋에 대한 정확도(lr : max_iter=1000) \n",
    "      * 0.9573098647051097\n",
    "      * 0.81244\n"
   ]
  },
  {
   "cell_type": "code",
   "execution_count": 120,
   "metadata": {},
   "outputs": [],
   "source": [
    "rf_model = RandomForestClassifier(\n",
    "    n_estimators=1000, \n",
    "    random_state=0, \n",
    ")\n",
    "mnb_model = MultinomialNB()\n",
    "lr_model = LogisticRegression(\n",
    "    max_iter=1000,\n",
    "    random_state=0\n",
    ")\n",
    "\n",
    "voting_classifier = VotingClassifier(\n",
    "    estimators=[('random_forest', rf_model), \n",
    "                ('multinomial_naive_bayes', mnb_model), \n",
    "                ('logistic_regression', lr_model), \n",
    "                ],\n",
    "    voting='hard'\n",
    "    )\n",
    "\n",
    "voting_classifier.fit(X_train, y_train)\n",
    "ensemble_train_pred = voting_classifier.predict(X_train)\n",
    "ensemble_pred = voting_classifier.predict(X_test)"
   ]
  },
  {
   "cell_type": "code",
   "execution_count": null,
   "metadata": {},
   "outputs": [],
   "source": []
  },
  {
   "cell_type": "markdown",
   "metadata": {},
   "source": [
    "#### RF + MNB + LR + BNB, lemma"
   ]
  },
  {
   "cell_type": "code",
   "execution_count": 22,
   "metadata": {},
   "outputs": [],
   "source": [
    "# rf_model = RandomForestClassifier(\n",
    "#     n_estimators=1000, \n",
    "#     random_state=0, \n",
    "# )\n",
    "# mnb_model = MultinomialNB()\n",
    "# lr_model = LogisticRegression()\n",
    "# bnb_model = BernoulliNB()\n",
    "\n",
    "# voting_classifier = VotingClassifier(\n",
    "#     estimators=[('random_forest', rf_model), \n",
    "#                 ('multinomial_naive_bayes', mnb_model), \n",
    "#                 ('logistic_regression', lr_model), \n",
    "#                 ('bernoulli_naive_bayes', bnb_model),\n",
    "#                 ],\n",
    "#     voting='hard'\n",
    "#     )\n",
    "# voting_classifier.fit(X_train, y_train)\n",
    "# ensemble_train_pred = voting_classifier.predict(X_train)\n",
    "# ensemble_pred = voting_classifier.predict(X_test)\n",
    "\n",
    "# ## 훈련 셋에 대한 정확도 0.9255221331932221,  0.80355"
   ]
  },
  {
   "cell_type": "markdown",
   "metadata": {},
   "source": [
    "#### RF + BNB + LR, lemma"
   ]
  },
  {
   "cell_type": "code",
   "execution_count": 23,
   "metadata": {},
   "outputs": [],
   "source": [
    "# rf_model = RandomForestClassifier(\n",
    "#     n_estimators=1000, \n",
    "#     random_state=0, \n",
    "# )\n",
    "# bnb_model = BernoulliNB()\n",
    "# lr_model = LogisticRegression()\n",
    "\n",
    "# voting_classifier = VotingClassifier(\n",
    "#     estimators=[('random_forest', rf_model), \n",
    "#                 ('bernoulli_naive_bayes', bnb_model),\n",
    "#                 ('logistic_regression', lr_model), \n",
    "#                 ],\n",
    "#     voting='hard'\n",
    "#     )\n",
    "# voting_classifier.fit(X_train, y_train)\n",
    "# ensemble_train_pred = voting_classifier.predict(X_train)\n",
    "# ensemble_pred = voting_classifier.predict(X_test)\n",
    "\n",
    "## 훈련 셋에 대한 정확도 0.9557336135557599,  0.8106"
   ]
  },
  {
   "cell_type": "code",
   "execution_count": 122,
   "metadata": {},
   "outputs": [
    {
     "name": "stdout",
     "output_type": "stream",
     "text": [
      "훈련 셋에 대한 정확도 0.957390498875215\n"
     ]
    }
   ],
   "source": [
    "print(\"훈련 셋에 대한 정확도\", accuracy_score(y_train, ensemble_train_pred))"
   ]
  },
  {
   "cell_type": "code",
   "execution_count": 123,
   "metadata": {},
   "outputs": [
    {
     "data": {
      "text/plain": [
       "array([1, 1, 1, ..., 1, 1, 0], dtype=int64)"
      ]
     },
     "execution_count": 123,
     "metadata": {},
     "output_type": "execute_result"
    }
   ],
   "source": [
    "ensemble_pred"
   ]
  },
  {
   "cell_type": "code",
   "execution_count": 124,
   "metadata": {},
   "outputs": [],
   "source": [
    "submit = pd.read_csv(\"../submit/sample_submission.csv\")\n",
    "submit[\"target\"] = ensemble_pred\n",
    "submit.to_csv(\"../submit/submit_del_num.csv\", index=False)"
   ]
  },
  {
   "cell_type": "code",
   "execution_count": 125,
   "metadata": {},
   "outputs": [],
   "source": [
    "from sklearn.metrics import confusion_matrix\n",
    "import seaborn as sns\n",
    "import matplotlib.pyplot as plt"
   ]
  },
  {
   "cell_type": "code",
   "execution_count": 127,
   "metadata": {},
   "outputs": [
    {
     "data": {
      "image/png": "[encoded data removed]",
      "text/plain": [
       "<Figure size 640x480 with 2 Axes>"
      ]
     },
     "metadata": {},
     "output_type": "display_data"
    }
   ],
   "source": [
    "sns.heatmap(confusion_matrix(y_train, ensemble_train_pred),  cmap=\"Blues\")\n",
    "plt.xlabel('Predicted')\n",
    "plt.ylabel('True')\n",
    "plt.show()"
   ]
  }
 ],
 "metadata": {
  "kernelspec": {
   "display_name": "disaster-tweets",
   "language": "python",
   "name": "python3"
  },
  "language_info": {
   "codemirror_mode": {
    "name": "ipython",
    "version": 3
   },
   "file_extension": ".py",
   "mimetype": "text/x-python",
   "name": "python",
   "nbconvert_exporter": "python",
   "pygments_lexer": "ipython3",
   "version": "3.9.17"
  }
 },
 "nbformat": 4,
 "nbformat_minor": 2
}
